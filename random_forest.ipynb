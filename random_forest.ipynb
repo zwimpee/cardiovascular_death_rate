{
 "cells": [
  {
   "cell_type": "markdown",
   "metadata": {},
   "source": [
    "\n",
    "# <u>Cardiovascular Death Rate Capstone: Random Forest</u>\n",
    "*An example in the importance of a good feature set...*"
   ]
  },
  {
   "cell_type": "code",
   "execution_count": 1,
   "metadata": {},
   "outputs": [],
   "source": [
    "# Importing Modules\n",
    "#------------------------#\n",
    "# Importing modules for DataFrames, plots, and statistical analysis\n",
    "import pandas as pd \n",
    "import numpy as np \n",
    "import matplotlib.pyplot as plt\n",
    "import seaborn as sns\n",
    "\n",
    "from matplotlib.legend_handler import HandlerLine2D\n",
    "sns.set();\n",
    "#------------------------#\n",
    "# Importing classification algorithms\n",
    "from sklearn.ensemble import RandomForestClassifier\n",
    "#------------------------#\n",
    "# Importing modules to measure model performance\n",
    "import time \n",
    "from sklearn.model_selection import train_test_split\n",
    "from sklearn.model_selection import cross_val_score\n",
    "from sklearn.model_selection import GridSearchCV\n",
    "from sklearn.metrics import accuracy_score\n",
    "from sklearn.metrics import roc_auc_score"
   ]
  },
  {
   "cell_type": "markdown",
   "metadata": {},
   "source": [
    "**Column selection**"
   ]
  },
  {
   "cell_type": "code",
   "execution_count": 2,
   "metadata": {},
   "outputs": [
    {
     "data": {
      "text/html": [
       "<div>\n",
       "<style scoped>\n",
       "    .dataframe tbody tr th:only-of-type {\n",
       "        vertical-align: middle;\n",
       "    }\n",
       "\n",
       "    .dataframe tbody tr th {\n",
       "        vertical-align: top;\n",
       "    }\n",
       "\n",
       "    .dataframe thead th {\n",
       "        text-align: right;\n",
       "    }\n",
       "</style>\n",
       "<table border=\"1\" class=\"dataframe\">\n",
       "  <thead>\n",
       "    <tr style=\"text-align: right;\">\n",
       "      <th></th>\n",
       "      <th>rate_change</th>\n",
       "      <th>CP02_current_058E</th>\n",
       "      <th>CP02_previous_058E</th>\n",
       "      <th>CP02_diff_058E</th>\n",
       "      <th>CP02_current_059E</th>\n",
       "      <th>CP02_previous_059E</th>\n",
       "      <th>CP02_diff_059E</th>\n",
       "      <th>CP02_current_060E</th>\n",
       "      <th>CP02_previous_060E</th>\n",
       "      <th>CP02_diff_060E</th>\n",
       "      <th>...</th>\n",
       "      <th>CP04_diff_138E</th>\n",
       "      <th>CP04_current_139E</th>\n",
       "      <th>CP04_previous_139E</th>\n",
       "      <th>CP04_diff_139E</th>\n",
       "      <th>CP04_current_140E</th>\n",
       "      <th>CP04_previous_140E</th>\n",
       "      <th>CP04_diff_140E</th>\n",
       "      <th>CP04_current_141E</th>\n",
       "      <th>CP04_previous_141E</th>\n",
       "      <th>CP04_diff_141E</th>\n",
       "    </tr>\n",
       "  </thead>\n",
       "  <tbody>\n",
       "    <tr>\n",
       "      <th>0</th>\n",
       "      <td>0</td>\n",
       "      <td>90930.0</td>\n",
       "      <td>90844.0</td>\n",
       "      <td>86.0</td>\n",
       "      <td>3.0</td>\n",
       "      <td>4.6</td>\n",
       "      <td>-1.6</td>\n",
       "      <td>7.9</td>\n",
       "      <td>8.0</td>\n",
       "      <td>-0.1</td>\n",
       "      <td>...</td>\n",
       "      <td>3.5</td>\n",
       "      <td>10.4</td>\n",
       "      <td>10.5</td>\n",
       "      <td>-0.1</td>\n",
       "      <td>47.4</td>\n",
       "      <td>38.2</td>\n",
       "      <td>9.2</td>\n",
       "      <td>1126.0</td>\n",
       "      <td>819.0</td>\n",
       "      <td>307.0</td>\n",
       "    </tr>\n",
       "    <tr>\n",
       "      <th>1</th>\n",
       "      <td>0</td>\n",
       "      <td>49654.0</td>\n",
       "      <td>48361.0</td>\n",
       "      <td>1293.0</td>\n",
       "      <td>2.5</td>\n",
       "      <td>2.0</td>\n",
       "      <td>0.5</td>\n",
       "      <td>4.0</td>\n",
       "      <td>4.2</td>\n",
       "      <td>-0.2</td>\n",
       "      <td>...</td>\n",
       "      <td>11.9</td>\n",
       "      <td>13.4</td>\n",
       "      <td>12.7</td>\n",
       "      <td>0.7</td>\n",
       "      <td>32.8</td>\n",
       "      <td>45.7</td>\n",
       "      <td>-12.9</td>\n",
       "      <td>855.0</td>\n",
       "      <td>668.0</td>\n",
       "      <td>187.0</td>\n",
       "    </tr>\n",
       "    <tr>\n",
       "      <th>2</th>\n",
       "      <td>1</td>\n",
       "      <td>74278.0</td>\n",
       "      <td>73273.0</td>\n",
       "      <td>1005.0</td>\n",
       "      <td>1.2</td>\n",
       "      <td>2.6</td>\n",
       "      <td>-1.4</td>\n",
       "      <td>5.7</td>\n",
       "      <td>5.2</td>\n",
       "      <td>0.5</td>\n",
       "      <td>...</td>\n",
       "      <td>11.1</td>\n",
       "      <td>9.6</td>\n",
       "      <td>11.9</td>\n",
       "      <td>-2.3</td>\n",
       "      <td>39.2</td>\n",
       "      <td>40.9</td>\n",
       "      <td>-1.7</td>\n",
       "      <td>790.0</td>\n",
       "      <td>417.0</td>\n",
       "      <td>373.0</td>\n",
       "    </tr>\n",
       "    <tr>\n",
       "      <th>3</th>\n",
       "      <td>1</td>\n",
       "      <td>280301.0</td>\n",
       "      <td>280659.0</td>\n",
       "      <td>-358.0</td>\n",
       "      <td>2.7</td>\n",
       "      <td>2.7</td>\n",
       "      <td>0.0</td>\n",
       "      <td>8.1</td>\n",
       "      <td>8.8</td>\n",
       "      <td>-0.7</td>\n",
       "      <td>...</td>\n",
       "      <td>-1.7</td>\n",
       "      <td>9.4</td>\n",
       "      <td>8.3</td>\n",
       "      <td>1.1</td>\n",
       "      <td>52.7</td>\n",
       "      <td>55.0</td>\n",
       "      <td>-2.3</td>\n",
       "      <td>4706.0</td>\n",
       "      <td>4204.0</td>\n",
       "      <td>502.0</td>\n",
       "    </tr>\n",
       "    <tr>\n",
       "      <th>4</th>\n",
       "      <td>1</td>\n",
       "      <td>62370.0</td>\n",
       "      <td>61645.0</td>\n",
       "      <td>725.0</td>\n",
       "      <td>1.9</td>\n",
       "      <td>1.3</td>\n",
       "      <td>0.6</td>\n",
       "      <td>6.0</td>\n",
       "      <td>6.9</td>\n",
       "      <td>-0.9</td>\n",
       "      <td>...</td>\n",
       "      <td>-1.7</td>\n",
       "      <td>10.0</td>\n",
       "      <td>6.0</td>\n",
       "      <td>4.0</td>\n",
       "      <td>47.7</td>\n",
       "      <td>50.4</td>\n",
       "      <td>-2.7</td>\n",
       "      <td>151.0</td>\n",
       "      <td>706.0</td>\n",
       "      <td>-555.0</td>\n",
       "    </tr>\n",
       "  </tbody>\n",
       "</table>\n",
       "<p>5 rows × 253 columns</p>\n",
       "</div>"
      ],
      "text/plain": [
       "   rate_change  CP02_current_058E  CP02_previous_058E  CP02_diff_058E  \\\n",
       "0            0            90930.0             90844.0            86.0   \n",
       "1            0            49654.0             48361.0          1293.0   \n",
       "2            1            74278.0             73273.0          1005.0   \n",
       "3            1           280301.0            280659.0          -358.0   \n",
       "4            1            62370.0             61645.0           725.0   \n",
       "\n",
       "   CP02_current_059E  CP02_previous_059E  CP02_diff_059E  CP02_current_060E  \\\n",
       "0                3.0                 4.6            -1.6                7.9   \n",
       "1                2.5                 2.0             0.5                4.0   \n",
       "2                1.2                 2.6            -1.4                5.7   \n",
       "3                2.7                 2.7             0.0                8.1   \n",
       "4                1.9                 1.3             0.6                6.0   \n",
       "\n",
       "   CP02_previous_060E  CP02_diff_060E  ...  CP04_diff_138E  CP04_current_139E  \\\n",
       "0                 8.0            -0.1  ...             3.5               10.4   \n",
       "1                 4.2            -0.2  ...            11.9               13.4   \n",
       "2                 5.2             0.5  ...            11.1                9.6   \n",
       "3                 8.8            -0.7  ...            -1.7                9.4   \n",
       "4                 6.9            -0.9  ...            -1.7               10.0   \n",
       "\n",
       "   CP04_previous_139E  CP04_diff_139E  CP04_current_140E  CP04_previous_140E  \\\n",
       "0                10.5            -0.1               47.4                38.2   \n",
       "1                12.7             0.7               32.8                45.7   \n",
       "2                11.9            -2.3               39.2                40.9   \n",
       "3                 8.3             1.1               52.7                55.0   \n",
       "4                 6.0             4.0               47.7                50.4   \n",
       "\n",
       "   CP04_diff_140E  CP04_current_141E  CP04_previous_141E  CP04_diff_141E  \n",
       "0             9.2             1126.0               819.0           307.0  \n",
       "1           -12.9              855.0               668.0           187.0  \n",
       "2            -1.7              790.0               417.0           373.0  \n",
       "3            -2.3             4706.0              4204.0           502.0  \n",
       "4            -2.7              151.0               706.0          -555.0  \n",
       "\n",
       "[5 rows x 253 columns]"
      ]
     },
     "execution_count": 2,
     "metadata": {},
     "output_type": "execute_result"
    }
   ],
   "source": [
    "# load data set into DataFrame.\n",
    "cdr = pd.read_csv('data/cdr_data.csv',index_col=0)\n",
    "\n",
    "# Drop columns for significance of difference.\n",
    "ss = [col for col in cdr.columns if 'SS' in col]\n",
    "cdr = cdr.drop(columns=ss)\n",
    "\n",
    "# Cast 'rate_change' as an int\n",
    "cdr['rate_change'] = cdr['rate_change'].astype(int)\n",
    "\n",
    "# Select only these columns from the DataFrame.\n",
    "col_list = cdr.columns[7:].to_list()\n",
    "cdr = cdr[col_list]\n",
    "\n",
    "# Print first few rows.\n",
    "cdr.head()"
   ]
  },
  {
   "cell_type": "markdown",
   "metadata": {},
   "source": [
    "**<u>Dealing with missing values:</u>**\n",
    "\n",
    "**As was done for attempting a decision tree model, the missing data will be handled using listwise, or complete, deletion.**"
   ]
  },
  {
   "cell_type": "code",
   "execution_count": 3,
   "metadata": {},
   "outputs": [],
   "source": [
    "# Get 'DataFrame to create feature and target arrays.\n",
    "df = cdr.copy()\n",
    "\n",
    "# Drop all entries with missing values.\n",
    "df = df.dropna().reset_index(drop=True)"
   ]
  },
  {
   "cell_type": "markdown",
   "metadata": {},
   "source": [
    "## <u>Step 1: Build a default random forest</u>\n",
    "****\n",
    "\n",
    "*A random forest will be fit to the data, using the entire feature space and default parameter values.*"
   ]
  },
  {
   "cell_type": "code",
   "execution_count": 4,
   "metadata": {},
   "outputs": [
    {
     "name": "stdout",
     "output_type": "stream",
     "text": [
      "Shape of feature array:  (4232, 252)\n",
      "Shape of target array:  (4232,)\n"
     ]
    }
   ],
   "source": [
    "# Create feature and target arrays.\n",
    "X = df.drop('rate_change',axis=1).values\n",
    "y = df['rate_change'].values\n",
    "\n",
    "# Examine shape of feature and target arrays.\n",
    "print('Shape of feature array: ',X.shape)\n",
    "print('Shape of target array: ',y.shape)"
   ]
  },
  {
   "cell_type": "code",
   "execution_count": 5,
   "metadata": {},
   "outputs": [
    {
     "name": "stdout",
     "output_type": "stream",
     "text": [
      "Shape of train features:  (2962, 252)\n",
      "Shape of train targets:  (2962,)\n",
      "Shape of test features:  (1270, 252)\n",
      "Shape of test targets:  (1270,)\n"
     ]
    }
   ],
   "source": [
    "# Set random_state variable.\n",
    "SEED = 42\n",
    "\n",
    "# create train and test sets.\n",
    "X_train, X_test, y_train, y_test = train_test_split(X, y,\n",
    "                                                    test_size=0.3,\n",
    "                                                    stratify=y,\n",
    "                                                    random_state=SEED)\n",
    "\n",
    "# print shapes of train and test sets.\n",
    "print('Shape of train features: ',X_train.shape)\n",
    "print('Shape of train targets: ',y_train.shape)\n",
    "print('Shape of test features: ',X_test.shape)\n",
    "print('Shape of test targets: ',y_test.shape)"
   ]
  },
  {
   "cell_type": "code",
   "execution_count": 6,
   "metadata": {},
   "outputs": [
    {
     "name": "stdout",
     "output_type": "stream",
     "text": [
      "Test set accuracy: 0.54\n",
      "ROC AUC score: 0.53\n"
     ]
    }
   ],
   "source": [
    "# Instantiate a RandomForestClassifier 'rf' with default parameters.\n",
    "rf = RandomForestClassifier(random_state=SEED)\n",
    "\n",
    "# Fit rf to the training set.\n",
    "rf.fit(X_train,y_train)\n",
    "\n",
    "# Predict test set labels and probabilities.\n",
    "y_pred = rf.predict(X_test)\n",
    "y_pred_proba = rf.predict_proba(X_test)[:,1]\n",
    "\n",
    "# Compute test set performance metrics.  \n",
    "acc = accuracy_score(y_test, y_pred)\n",
    "roc_auc = roc_auc_score(y_test, y_pred_proba)\n",
    "\n",
    "# Print performance metric scores.\n",
    "print(\"Test set accuracy: {:.2f}\".format(acc))\n",
    "print('ROC AUC score: {:.2f}'.format(roc_auc))"
   ]
  },
  {
   "cell_type": "markdown",
   "metadata": {},
   "source": [
    "## <u>Step 2: Parameter Tuning</u>\n",
    "****"
   ]
  },
  {
   "cell_type": "markdown",
   "metadata": {},
   "source": [
    "### <u>Number of Estimators</u>"
   ]
  },
  {
   "cell_type": "code",
   "execution_count": 8,
   "metadata": {},
   "outputs": [
    {
     "data": {
      "image/png": "[encoded data removed]",
      "text/plain": [
       "<Figure size 720x360 with 1 Axes>"
      ]
     },
     "metadata": {},
     "output_type": "display_data"
    }
   ],
   "source": [
    "# define range of depths to check: depth_vals\n",
    "est_vals = np.arange(1,250)\n",
    "\n",
    "# initialize empty lists to store scores: train_scores, test_scores\n",
    "train_scores = []\n",
    "test_scores = []\n",
    "\n",
    "# iterate over est_vals, and record the training and test scores\n",
    "for est in est_vals:\n",
    "    \n",
    "    # instantiate a classifier with max_depth value\n",
    "    rf = RandomForestClassifier(n_estimators=est,random_state=SEED)\n",
    "    \n",
    "    # fit the tree to the training set\n",
    "    rf.fit(X_train,y_train)\n",
    "    \n",
    "    # predict on the train and test sets: pred_train,pred_test\n",
    "    prob_train = rf.predict_proba(X_train)[:,1]\n",
    "    prob_test = rf.predict_proba(X_test)[:,1]\n",
    "    \n",
    "    # store the AUC scores in corresponding lists\n",
    "    train_scores.append(roc_auc_score(y_train,prob_train))\n",
    "    test_scores.append(roc_auc_score(y_test,prob_test))\n",
    "    \n",
    "# plot the train and test scores on the same figure\n",
    "plt.figure(figsize=(10,5))\n",
    "line1, = plt.plot(est_vals, train_scores, 'b', label=\"Train AUC\")\n",
    "line2, = plt.plot(est_vals, test_scores, 'r', label=\"Test AUC\")\n",
    "\n",
    "plt.legend(handler_map={line1: HandlerLine2D(numpoints=2)})\n",
    "plt.ylabel(\"AUC Score\")\n",
    "plt.xlabel(\"n_estimators\")\n",
    "plt.title(\"Train and Test AUC values for varied n_estimators\")\n",
    "plt.show()"
   ]
  },
  {
   "cell_type": "markdown",
   "metadata": {},
   "source": [
    "### <u>Max Depth</u>"
   ]
  },
  {
   "cell_type": "code",
   "execution_count": 9,
   "metadata": {},
   "outputs": [
    {
     "data": {
      "image/png": "[encoded data removed]",
      "text/plain": [
       "<Figure size 720x360 with 1 Axes>"
      ]
     },
     "metadata": {},
     "output_type": "display_data"
    }
   ],
   "source": [
    "# define range of depths to check: depth_vals\n",
    "depth_vals = np.arange(1,32)\n",
    "\n",
    "# initialize empty lists to store scores: train_scores, test_scores\n",
    "train_scores = []\n",
    "test_scores = []\n",
    "\n",
    "# iterate over depth_vals, and record the training and test scores\n",
    "for depth in depth_vals:\n",
    "    \n",
    "    # instantiate a classifier with max_depth value\n",
    "    rf = RandomForestClassifier(max_depth=depth,random_state=SEED)\n",
    "    \n",
    "    # fit the tree to the training set\n",
    "    rf.fit(X_train,y_train)\n",
    "    \n",
    "    # predict on the train and test sets: pred_train,pred_test\n",
    "    prob_train = rf.predict_proba(X_train)[:,1]\n",
    "    prob_test = rf.predict_proba(X_test)[:,1]\n",
    "    \n",
    "    # store the AUC scores in corresponding lists\n",
    "    train_scores.append(roc_auc_score(y_train,prob_train))\n",
    "    test_scores.append(roc_auc_score(y_test,prob_test))\n",
    "    \n",
    "# plot the train and test scores on the same figure\n",
    "plt.figure(figsize=(10,5))\n",
    "line1, = plt.plot(depth_vals, train_scores, 'b', label=\"Train AUC\")\n",
    "line2, = plt.plot(depth_vals, test_scores, 'r', label=\"Test AUC\")\n",
    "\n",
    "plt.legend(handler_map={line1: HandlerLine2D(numpoints=2)})\n",
    "plt.ylabel(\"AUC Score\")\n",
    "plt.xlabel(\"max_depth\")\n",
    "plt.title(\"Train and Test AUC values for varied max_depth\")\n",
    "plt.show()"
   ]
  },
  {
   "cell_type": "markdown",
   "metadata": {},
   "source": [
    "Now we repeat this process for the next parameters, min_samples_split and min_samples_leaf.\n",
    "\n",
    "### <u>Min Samples Split / Min Samples Leaf</u>"
   ]
  },
  {
   "cell_type": "code",
   "execution_count": 11,
   "metadata": {},
   "outputs": [
    {
     "data": {
      "image/png": "[encoded data removed]",
      "text/plain": [
       "<Figure size 720x360 with 1 Axes>"
      ]
     },
     "metadata": {},
     "output_type": "display_data"
    }
   ],
   "source": [
    "# define range of minimum split samples to check: split_vals\n",
    "split_vals = np.linspace(.01, 1.0, 100, endpoint=True)\n",
    "\n",
    "# initialize empty lists to store scores: train_scores, test_scores\n",
    "train_scores = []\n",
    "test_scores = []\n",
    "\n",
    "# iterate over split_vals, and record the training and test scores\n",
    "for split in split_vals:\n",
    "    \n",
    "    # instantiate a classifier with min_samples_split value\n",
    "    rf = RandomForestClassifier(min_samples_split=split,random_state=SEED)\n",
    "    \n",
    "    # fit the tree to the training set\n",
    "    rf.fit(X_train,y_train)\n",
    "    \n",
    "    # predict on the train and test sets: pred_train,pred_test\n",
    "    prob_train = rf.predict_proba(X_train)[:,1]\n",
    "    prob_test = rf.predict_proba(X_test)[:,1]\n",
    "    \n",
    "    # store the AUC scores in corresponding lists\n",
    "    train_scores.append(roc_auc_score(y_train,prob_train))\n",
    "    test_scores.append(roc_auc_score(y_test,prob_test))\n",
    "    \n",
    "# plot the train and test scores on the same figure\n",
    "plt.figure(figsize=(10,5))\n",
    "line1, = plt.plot(split_vals, train_scores, 'b', label=\"Train AUC\")\n",
    "line2, = plt.plot(split_vals, test_scores, 'r', label=\"Test AUC\")\n",
    "\n",
    "plt.legend(handler_map={line1: HandlerLine2D(numpoints=2)})\n",
    "plt.ylabel(\"AUC Score\")\n",
    "plt.xlabel(\"min_samples_split\")\n",
    "plt.title(\"Train and Test AUC values for varied min_samples_split\")\n",
    "plt.show()"
   ]
  },
  {
   "cell_type": "code",
   "execution_count": 12,
   "metadata": {},
   "outputs": [
    {
     "data": {
      "image/png": "[encoded data removed]",
      "text/plain": [
       "<Figure size 720x360 with 1 Axes>"
      ]
     },
     "metadata": {},
     "output_type": "display_data"
    }
   ],
   "source": [
    "# define range of minimum leaf samples to check: leaf_vals\n",
    "leaf_vals = np.linspace(.01, 0.5, 100, endpoint=True)\n",
    "\n",
    "# initialize empty lists to store scores: train_scores, test_scores\n",
    "train_scores = []\n",
    "test_scores = []\n",
    "\n",
    "# iterate over leaf_vals, and record the training and test scores\n",
    "for leaf in leaf_vals:\n",
    "    \n",
    "    # instantiate a classifier with min_samples_leaf value\n",
    "    rf = RandomForestClassifier(min_samples_leaf=leaf,random_state=SEED)\n",
    "    \n",
    "    # fit the tree to the training set\n",
    "    rf.fit(X_train,y_train)\n",
    "    \n",
    "    # predict on the train and test sets: pred_train,pred_test\n",
    "    prob_train = rf.predict_proba(X_train)[:,1]\n",
    "    prob_test = rf.predict_proba(X_test)[:,1]\n",
    "    \n",
    "    # store the AUC scores in corresponding lists\n",
    "    train_scores.append(roc_auc_score(y_train,prob_train))\n",
    "    test_scores.append(roc_auc_score(y_test,prob_test))\n",
    "    \n",
    "# plot the train and test scores on the same figure\n",
    "plt.figure(figsize=(10,5))\n",
    "line1, = plt.plot(leaf_vals, train_scores, 'b', label=\"Train AUC\")\n",
    "line2, = plt.plot(leaf_vals, test_scores, 'r', label=\"Test AUC\")\n",
    "\n",
    "plt.legend(handler_map={line1: HandlerLine2D(numpoints=2)})\n",
    "plt.ylabel(\"AUC Score\")\n",
    "plt.xlabel(\"min_samples_leaf\")\n",
    "plt.title(\"Train and Test AUC values for varied min_samples_leaf\")\n",
    "plt.show()"
   ]
  },
  {
   "cell_type": "markdown",
   "metadata": {},
   "source": [
    "The next parameter to check will be the maximum number of features to consider for each split, max_features.\n",
    "\n",
    "### <u>Max Features</u>"
   ]
  },
  {
   "cell_type": "code",
   "execution_count": 16,
   "metadata": {},
   "outputs": [
    {
     "data": {
      "text/plain": [
       "[1, 21, 41, 61, 81, 101, 121, 141, 161, 181, 201, 221, 241]"
      ]
     },
     "execution_count": 16,
     "metadata": {},
     "output_type": "execute_result"
    }
   ],
   "source": [
    "list(np.arange(1,X.shape[1],20))"
   ]
  },
  {
   "cell_type": "code",
   "execution_count": 17,
   "metadata": {},
   "outputs": [
    {
     "data": {
      "image/png": "[encoded data removed]",
      "text/plain": [
       "<Figure size 720x360 with 1 Axes>"
      ]
     },
     "metadata": {},
     "output_type": "display_data"
    }
   ],
   "source": [
    "# define range of max features to check: feat_vals\n",
    "feat_vals = list(np.arange(1,X.shape[1],20))\n",
    "\n",
    "# initialize empty lists to store scores: train_scores, test_scores\n",
    "train_scores = []\n",
    "test_scores = []\n",
    "\n",
    "# iterate over feat_vals, and record the training and test scores\n",
    "for feat in feat_vals:\n",
    "    \n",
    "    # instantiate a classifier with max_features value\n",
    "    rf = RandomForestClassifier(max_features=feat,random_state=SEED)\n",
    "    \n",
    "    # fit the tree to the training set\n",
    "    rf.fit(X_train,y_train)\n",
    "    \n",
    "    # predict on the train and test sets: pred_train,pred_test\n",
    "    prob_train = rf.predict_proba(X_train)[:,1]\n",
    "    prob_test = rf.predict_proba(X_test)[:,1]\n",
    "    \n",
    "    # store the AUC scores in corresponding lists\n",
    "    train_scores.append(roc_auc_score(y_train,prob_train))\n",
    "    test_scores.append(roc_auc_score(y_test,prob_test))\n",
    "    \n",
    "# plot the train and test scores on the same figure\n",
    "plt.figure(figsize=(10,5))\n",
    "line1, = plt.plot(feat_vals, train_scores, 'b', label=\"Train AUC\")\n",
    "line2, = plt.plot(feat_vals, test_scores, 'r', label=\"Test AUC\")\n",
    "\n",
    "plt.legend(handler_map={line1: HandlerLine2D(numpoints=2)})\n",
    "plt.ylabel(\"AUC Score\")\n",
    "plt.xlabel(\"max_features\")\n",
    "plt.title(\"Train and Test AUC values for varied max_features\")\n",
    "plt.show()"
   ]
  },
  {
   "cell_type": "markdown",
   "metadata": {},
   "source": [
    "**Grid search hyperparameter tuning**"
   ]
  },
  {
   "cell_type": "code",
   "execution_count": 19,
   "metadata": {},
   "outputs": [
    {
     "name": "stdout",
     "output_type": "stream",
     "text": [
      "Test set ROC AUC score: 0.527\n"
     ]
    }
   ],
   "source": [
    "# Instantiate a RandomForestClassifier 'rf' with default parameters.\n",
    "rf = RandomForestClassifier(random_state=SEED)\n",
    "\n",
    "# Define params_rf.\n",
    "params_rf = {\n",
    "    'max_depth':[6,7,12],\n",
    "    'min_samples_split':list(np.linspace(0.1,0.15,10)),\n",
    "    'min_samples_leaf':list(np.linspace(0.05,0.1,10)),\n",
    "    'max_features':[41,141,181]\n",
    "}\n",
    "\n",
    "\n",
    "\n",
    "# Instantiate grid_rf.\n",
    "grid_rf = GridSearchCV(estimator=rf,\n",
    "                       param_grid=params_rf,\n",
    "                       scoring='roc_auc',\n",
    "                       cv=10,\n",
    "                       n_jobs=-1)\n",
    "\n",
    "# Train grid_rf.\n",
    "grid_rf.fit(X_train, y_train)\n",
    "\n",
    "# Extract the best estimator.\n",
    "best_model = grid_rf.best_estimator_\n",
    "\n",
    "# Extract parameters of best estimator.\n",
    "best_params = best_model.get_params()\n",
    "\n",
    "# Predict the test set probabilities of the positive class.\n",
    "y_pred_proba = best_model.predict_proba(X_test)[:,1]\n",
    "\n",
    "# Compute test_roc_auc.\n",
    "test_roc_auc = roc_auc_score(y_test, y_pred_proba)\n",
    "\n",
    "# Print test_roc_auc.\n",
    "print('Test set ROC AUC score: {:.3f}'.format(test_roc_auc))"
   ]
  },
  {
   "cell_type": "markdown",
   "metadata": {},
   "source": [
    "**Feature Selection**\n",
    "\n",
    "We check to see if performance improved if the feature set is reduced to only include features with non-zero feature importance values."
   ]
  },
  {
   "cell_type": "code",
   "execution_count": 20,
   "metadata": {},
   "outputs": [],
   "source": [
    "feat_imps = best_model.feature_importances_\n",
    "feat_cols = df.drop('rate_change',axis=1).columns"
   ]
  },
  {
   "cell_type": "code",
   "execution_count": 21,
   "metadata": {},
   "outputs": [],
   "source": [
    "df_imps = pd.DataFrame(feat_imps,index=feat_cols,columns=['imp'])\n",
    "df_imps = df_imps[df_imps.imp>0]\n",
    "df_imps = df_imps.sort_values(by='imp',ascending=False)\n",
    "new_cols = ['rate_change']+df_imps.index.to_list()\n",
    "df = cdr[new_cols].copy()\n",
    "\n",
    "# Drop all entries with missing values.\n",
    "df = df.dropna().reset_index(drop=True)"
   ]
  },
  {
   "cell_type": "code",
   "execution_count": 22,
   "metadata": {},
   "outputs": [
    {
     "name": "stdout",
     "output_type": "stream",
     "text": [
      "Shape of feature array:  (4232, 211)\n",
      "Shape of target array:  (4232,)\n"
     ]
    }
   ],
   "source": [
    "# Create feature and target arrays.\n",
    "X = df.drop('rate_change',axis=1).values\n",
    "y = df['rate_change'].values\n",
    "\n",
    "# Examine shape of feature and target arrays.\n",
    "print('Shape of feature array: ',X.shape)\n",
    "print('Shape of target array: ',y.shape)"
   ]
  },
  {
   "cell_type": "code",
   "execution_count": 23,
   "metadata": {},
   "outputs": [
    {
     "name": "stdout",
     "output_type": "stream",
     "text": [
      "Shape of train features:  (2962, 211)\n",
      "Shape of train targets:  (2962,)\n",
      "Shape of test features:  (1270, 211)\n",
      "Shape of test targets:  (1270,)\n"
     ]
    }
   ],
   "source": [
    "# Set random_state variable.\n",
    "SEED = 42\n",
    "\n",
    "# create train and test sets.\n",
    "X_train, X_test, y_train, y_test = train_test_split(X, y,\n",
    "                                                    test_size=0.3,\n",
    "                                                    stratify=y,\n",
    "                                                    random_state=SEED)\n",
    "\n",
    "# print shapes of train and test sets.\n",
    "print('Shape of train features: ',X_train.shape)\n",
    "print('Shape of train targets: ',y_train.shape)\n",
    "print('Shape of test features: ',X_test.shape)\n",
    "print('Shape of test targets: ',y_test.shape)"
   ]
  },
  {
   "cell_type": "code",
   "execution_count": 25,
   "metadata": {},
   "outputs": [
    {
     "name": "stdout",
     "output_type": "stream",
     "text": [
      "Test set ROC AUC score: 0.523\n"
     ]
    }
   ],
   "source": [
    "# Instantiate new classifier and set parameters.\n",
    "rf = RandomForestClassifier().set_params(**best_params)\n",
    "\n",
    "# Fit the model.\n",
    "rf.fit(X_train, y_train)\n",
    "\n",
    "# Predict the test set probabilities of the positive class\n",
    "y_pred_proba = rf.predict_proba(X_test)[:,1]\n",
    "\n",
    "# Compute test_roc_auc\n",
    "test_roc_auc = roc_auc_score(y_test, y_pred_proba)\n",
    "\n",
    "# Print test_roc_auc\n",
    "print('Test set ROC AUC score: {:.3f}'.format(test_roc_auc))"
   ]
  },
  {
   "cell_type": "markdown",
   "metadata": {},
   "source": [
    "The attempt at creating a model using a random forest has also failed in the same way as a decision tree. The conclusion can be made that there is an underlying issue with the data set itself. In particular, it would appear that the feature set lacks the predictive power needed to accomplish the goal of the project. "
   ]
  }
 ],
 "metadata": {
  "kernelspec": {
   "display_name": "Python 3",
   "language": "python",
   "name": "python3"
  },
  "language_info": {
   "codemirror_mode": {
    "name": "ipython",
    "version": 3
   },
   "file_extension": ".py",
   "mimetype": "text/x-python",
   "name": "python",
   "nbconvert_exporter": "python",
   "pygments_lexer": "ipython3",
   "version": "3.7.4"
  }
 },
 "nbformat": 4,
 "nbformat_minor": 4
}
